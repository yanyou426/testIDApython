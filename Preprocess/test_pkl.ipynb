{
 "cells": [
  {
   "cell_type": "code",
   "execution_count": 2,
   "id": "a267bb0b-6215-4628-903d-7768b532ce7c",
   "metadata": {},
   "outputs": [],
   "source": [
    "import numpy as np\n",
    "import torch\n",
    "import torch.nn as nn\n",
    "import collections\n",
    "import time\n",
    "import os\n",
    "from datetime import datetime"
   ]
  },
  {
   "cell_type": "code",
   "execution_count": 4,
   "id": "dbad725c-998d-4a6b-bb84-5e53969ddeed",
   "metadata": {},
   "outputs": [
    {
     "name": "stdout",
     "output_type": "stream",
     "text": [
      "Whether cuda can be used: True\n",
      "NVIDIA GeForce RTX 3080 Ti\n"
     ]
    }
   ],
   "source": [
    "# set GPU\n",
    "use_cuda = torch.cuda.is_available()\n",
    "print(\"Whether cuda can be used: {}\".format(use_cuda))\n",
    "device = torch.device('cuda:0' if use_cuda else 'cpu')\n",
    "print(torch.cuda.get_device_name(0))"
   ]
  },
  {
   "cell_type": "code",
   "execution_count": 4,
   "id": "e7d0ca1f-4804-4668-84f7-8b53715e28a8",
   "metadata": {},
   "outputs": [],
   "source": [
    "# import tensorflow as tf\n",
    "# print(tf.__version__)\n",
    "# tf.compat.v1.disable_eager_execution()\n",
    "# import tensorflow_probability as tfp"
   ]
  },
  {
   "cell_type": "markdown",
   "id": "11eb81d0-83f4-425e-b5f9-0d953e8c2aef",
   "metadata": {
    "tags": []
   },
   "source": [
    "# Generating graph dataset (first test on minizipsh)"
   ]
  },
  {
   "cell_type": "code",
   "execution_count": 7,
   "id": "096e82f0-e279-4a9a-9b8a-a8cb00a201f1",
   "metadata": {},
   "outputs": [],
   "source": [
    "import networkx as nx\n",
    "import json\n",
    "import pickle\n",
    "import collections\n",
    "func_struct = collections.namedtuple('func_struct', 'func_name opt_level version compiler bb_size byte_size CFG ARCH LIB_NAME OBF bin_type file_path')\n",
    "from sklearn.model_selection import train_test_split\n",
    "import glob"
   ]
  },
  {
   "cell_type": "code",
   "execution_count": 23,
   "id": "5c69c382-cd85-48dd-804f-8f50876bd4d1",
   "metadata": {},
   "outputs": [],
   "source": [
    "def generate_dataset(input_path):\n",
    "    query_dict = {}\n",
    "    dedup_dict = {}\n",
    "    ret_dict = {}\n",
    "    num = ['0','1','2','3','4','5','6','7','8','9']\n",
    "    # print(input_path) # files including minigzipsh: arch compiler oplevel\n",
    "    for file in input_path:\n",
    "        parse = file.split('/')[-1] # arm64-clang-O0_minigzipsh_graph.pkl\n",
    "        parse = parse.split('.')[0]\n",
    "        arch= parse.split('-')[0]\n",
    "        compiler = parse.split('-')[1]\n",
    "        last = parse.split('-')[-1]\n",
    "        opt_level = last.split('_')[0]\n",
    "        bin_name = last.split('_')[1]\n",
    "        name_func_struct_tmp = pickle.load(open(file, 'rb'))\n",
    "        for func_name in name_func_struct_tmp.keys():\n",
    "            # print(func_name)\n",
    "            if func_name[0] not in num:\n",
    "                random_struct = {'arch': arch,\n",
    "                                 'cfg': name_func_struct_tmp[func_name],\n",
    "                                 'compiler': compiler,\n",
    "                                 'opt': opt_level\n",
    "                                }\n",
    "                if func_name not in query_dict.keys():\n",
    "                    query_dict[func_name] = [random_struct]\n",
    "                else:\n",
    "                    add_flag = True \n",
    "                    for iter in query_dict[func_name]:\n",
    "                        if iter['compiler'] == random_struct['compiler'] and \\\n",
    "                            iter['opt'] == random_struct['opt'] and \\\n",
    "                            iter['cfg'].bb_size == random_struct['cfg'].bb_size and\\\n",
    "                            iter['arch'] == random_struct['arch'] and\\\n",
    "                            iter['cfg'].byte_size == random_struct['cfg'].byte_size:\n",
    "                            add_flag = False\n",
    "                            break \n",
    "                    if add_flag:\n",
    "                        query_dict[func_name].append(random_struct)\n",
    "        for key in query_dict.keys():\n",
    "            dedup_dict[key] = list()\n",
    "        for key in query_dict.keys():\n",
    "            if key.endswith(tuple(num)):\n",
    "                decom_name = key.split(\"_\")\n",
    "                decom_name = '_'.join(decom_name[:-1])\n",
    "                if decom_name in query_dict.keys():\n",
    "                    # sth like this vp56_rac_gets_nn_8\n",
    "                    dedup_dict[decom_name] += query_dict[key]\n",
    "                else:\n",
    "                    dedup_dict[key] += query_dict[key]\n",
    "            else:\n",
    "                dedup_dict[key] += query_dict[key]\n",
    "        for key in dedup_dict.keys():\n",
    "            if len(dedup_dict[key])>0:\n",
    "                arr = []\n",
    "                fuck_tag_arr = []\n",
    "                for fuck in dedup_dict[key]:\n",
    "                    fuck_tag = \"{}_{}_{}_{}_{}\".format(fuck['arch'],\n",
    "                                                    fuck['compiler'],\n",
    "                                                    fuck['opt'],\n",
    "                                                    str(fuck['cfg'].bb_size),\n",
    "                                                    str(fuck['cfg'].byte_size))\n",
    "                    if fuck_tag not in fuck_tag_arr:\n",
    "                        arr.append(fuck)\n",
    "                        fuck_tag_arr.append(fuck_tag)\n",
    "                ret_dict[key] = arr\n",
    "    \n",
    "    # for func in ret_dict:\n",
    "    #     print('The function {} in dataset has {}'.format(func, ret_dict[func]))\n",
    "    return ret_dict"
   ]
  },
  {
   "cell_type": "code",
   "execution_count": 24,
   "id": "ed5dd4cf-557d-41fb-8301-18b05fa2c49d",
   "metadata": {},
   "outputs": [],
   "source": [
    "lib_name = [\"minigzipsh\"]\n",
    "path = \"./Dataset-graph/*\" + lib_name[0] + \"*.pkl\"\n",
    "input_path = glob.glob(path)\n",
    "# print(len(input_path))\n",
    "data = generate_dataset(input_path)\n",
    "output_path = lib_name[0] + '_dataset.pickle'\n",
    "with open(output_path, 'wb') as f_out:\n",
    "    pickle.dump(data, f_out, protocol=pickle.HIGHEST_PROTOCOL)"
   ]
  },
  {
   "cell_type": "markdown",
   "id": "eba16ee8-d936-4ecc-8da8-a65b175b37db",
   "metadata": {},
   "source": [
    "# Test info of graph"
   ]
  },
  {
   "cell_type": "code",
   "execution_count": 20,
   "id": "9928574a-8a6c-4921-924f-68462492d3b7",
   "metadata": {},
   "outputs": [
    {
     "name": "stdout",
     "output_type": "stream",
     "text": [
      "[1, 0, 0, 0, 0, 2, 0, 0, 0, 0, 0, 0, 0, 0, 0, 0, 0, 0, 0, 0, 0, 1, 0, 0, 0, 0, 0, 0, 0, 0, 0, 0, 0, 0, 0, 0, 0, 0, 0, 0, 0, 0, 0, 0, 0, 0, 1, 0, 0, 0, 0, 0, 0, 0, 0, 0, 0, 0, 0, 0, 0, 0, 0, 0, 0, 0, 0, 0, 0, 0, 0, 0, 0, 0, 0, 0, 0, 0, 0, 0, 0, 0, 2, 0, 0, 0, 0, 0, 0, 0, 0, 0, 0, 0, 0, 0, 0, 0, 0, 0, 0, 0, 0, 0, 0, 0, 0, 0, 0, 0, 0, 0, 0, 0, 0, 0, 0, 0, 0, 0, 0, 0, 0, 0, 0, 0, 0, 0, 0, 0, 0, 0, 0, 0, 0, 0, 0, 0, 0, 0, 0, 0, 0, 0, 0, 0, 0, 0, 0, 0, 0, 0, 0, 0, 0, 0, 0, 0, 0, 0, 0, 0, 0, 0, 0, 0, 0, 0, 0, 0, 0, 0, 0, 0, 0, 0, 0, 0, 0, 0, 0, 0, 0, 0, 0, 0, 0, 0, 0, 0, 0, 0, 0, 0, 0, 0, 0, 0, 0, 0]\n",
      "[1, 0, 0, 0, 0, 2, 0, 0, 0, 0, 0, 0, 0, 0, 0, 0, 0, 0, 0, 0, 0, 1, 0, 0, 0, 0, 0, 0, 0, 0, 0, 0, 0, 0, 0, 0, 0, 0, 0, 0, 0, 0, 0, 0, 0, 0, 1, 0, 0, 0, 0, 0, 0, 0, 0, 0, 0, 0, 0, 0, 0, 0, 0, 0, 0, 0, 0, 0, 0, 0, 0, 0, 0, 0, 0, 0, 0, 0, 0, 0, 0, 0, 2, 0, 0, 0, 0, 0, 0, 0, 0, 0, 0, 0, 0, 0, 0, 0, 0, 0, 0, 0, 0, 0, 0, 0, 0, 0, 0, 0, 0, 0, 0, 0, 0, 0, 0, 0, 0, 0, 0, 0, 0, 0, 0, 0, 0, 0, 0, 0, 0, 0, 0, 0, 0, 0, 0, 0, 0, 0, 0, 0, 0, 0, 0, 0, 0, 0, 0, 0, 0, 0, 0, 0, 0, 0, 0, 0, 0, 0, 0, 0, 0, 0, 0, 0, 0, 0, 0, 0, 0, 0, 0, 0, 0, 0, 0, 0, 0, 0, 0, 0, 0, 0, 0, 0, 0, 0, 0, 0, 0, 0, 0, 0, 0, 0, 0, 0, 0, 0]\n",
      "[1, 1, 1, 0, 0, 1, 0, 0, 0, 0, 0, 0, 0, 0, 0, 0, 0, 0, 0, 0, 0, 1, 0, 0, 0, 0, 0, 0, 0, 0, 0, 0, 0, 0, 1, 0, 0, 0, 0, 1, 0, 0, 0, 0, 0, 0, 1, 0, 0, 0, 0, 0, 0, 0, 0, 0, 0, 0, 0, 0, 0, 0, 0, 0, 0, 0, 0, 0, 0, 0, 0, 0, 0, 0, 0, 0, 0, 0, 0, 0, 0, 0, 2, 0, 0, 0, 0, 0, 0, 0, 0, 0, 0, 0, 0, 0, 0, 0, 0, 0, 0, 0, 0, 0, 0, 0, 0, 0, 0, 0, 0, 1, 0, 0, 0, 0, 0, 0, 0, 0, 0, 0, 0, 0, 0, 0, 0, 0, 0, 0, 0, 0, 0, 0, 0, 0, 0, 0, 0, 0, 0, 0, 0, 0, 0, 0, 0, 0, 0, 0, 0, 0, 0, 0, 0, 0, 0, 0, 0, 0, 0, 0, 0, 0, 0, 0, 0, 0, 0, 0, 0, 0, 0, 0, 0, 0, 0, 0, 0, 0, 0, 0, 0, 0, 0, 0, 0, 0, 0, 0, 0, 0, 0, 0, 0, 0, 0, 0, 0, 0]\n",
      "[2, 1, 1, 0, 2, 2, 0, 0, 0, 0, 0, 0, 0, 0, 0, 0, 0, 0, 0, 0, 0, 4, 0, 0, 0, 0, 0, 0, 0, 0, 0, 0, 0, 0, 1, 0, 0, 0, 0, 0, 0, 0, 0, 0, 0, 0, 1, 0, 0, 0, 0, 0, 0, 0, 0, 0, 0, 0, 0, 0, 0, 0, 0, 0, 0, 0, 0, 0, 0, 0, 0, 0, 0, 0, 0, 0, 0, 0, 0, 0, 0, 0, 0, 0, 0, 0, 0, 0, 0, 0, 0, 0, 0, 0, 0, 0, 0, 0, 0, 0, 0, 0, 0, 0, 0, 0, 0, 0, 0, 0, 0, 1, 0, 0, 0, 0, 0, 0, 0, 0, 0, 0, 0, 0, 0, 0, 0, 0, 0, 0, 0, 0, 0, 0, 0, 0, 0, 0, 0, 0, 0, 0, 0, 0, 0, 0, 0, 0, 0, 0, 0, 0, 0, 0, 0, 0, 0, 0, 0, 0, 0, 0, 0, 0, 0, 0, 0, 0, 0, 0, 0, 0, 0, 0, 0, 0, 0, 0, 0, 0, 0, 0, 0, 0, 0, 0, 0, 0, 0, 0, 0, 0, 0, 0, 0, 0, 0, 0, 0, 0]\n",
      "[3, 7, 0, 0, 4, 1, 0, 0, 0, 0, 0, 0, 0, 0, 0, 0, 0, 0, 0, 0, 0, 5, 0, 0, 0, 0, 0, 0, 2, 0, 0, 0, 0, 0, 2, 0, 0, 1, 0, 3, 0, 0, 0, 0, 0, 0, 1, 0, 0, 0, 0, 0, 0, 0, 0, 0, 0, 0, 0, 0, 0, 0, 0, 0, 0, 5, 0, 0, 0, 0, 0, 0, 0, 0, 0, 0, 0, 0, 0, 0, 0, 0, 6, 0, 0, 0, 0, 0, 0, 0, 0, 0, 0, 0, 0, 0, 0, 0, 0, 0, 0, 0, 0, 0, 0, 0, 0, 0, 0, 0, 0, 0, 0, 0, 0, 0, 0, 0, 0, 0, 0, 0, 0, 0, 0, 0, 0, 0, 0, 0, 0, 0, 0, 0, 0, 0, 0, 0, 0, 0, 0, 0, 0, 0, 0, 0, 0, 0, 0, 0, 0, 0, 0, 0, 0, 0, 0, 0, 0, 0, 0, 0, 0, 0, 0, 0, 0, 0, 0, 0, 0, 0, 0, 0, 0, 0, 0, 0, 0, 0, 0, 0, 0, 0, 0, 0, 0, 0, 0, 0, 0, 0, 0, 0, 0, 0, 0, 0, 0, 0]\n"
     ]
    }
   ],
   "source": [
    "input_json = r\"./arm64-clang-O0_minigzipsh_graph.pkl\"\n",
    "def open_pkl(input_json):\n",
    "    with open(input_json, 'rb') as f_in:\n",
    "        info = pickle.load(f_in)\n",
    "        for func_name in info.keys():\n",
    "            cfg = info[func_name]\n",
    "            g = cfg.CFG\n",
    "            # for x in list(g.nodes.keys()):\n",
    "            for x in range(1):\n",
    "                # emb.append([g.node[x]['emb']])\n",
    "                print(g.nodes[x]['feature'])\n",
    "        \n",
    "        \n",
    "open_pkl(input_json)"
   ]
  },
  {
   "cell_type": "code",
   "execution_count": null,
   "id": "0f1a95c0-66c9-46d8-94c0-07ed4a9c7596",
   "metadata": {},
   "outputs": [],
   "source": []
  }
 ],
 "metadata": {
  "kernelspec": {
   "display_name": "Python 3 (ipykernel)",
   "language": "python",
   "name": "python3"
  },
  "language_info": {
   "codemirror_mode": {
    "name": "ipython",
    "version": 3
   },
   "file_extension": ".py",
   "mimetype": "text/x-python",
   "name": "python",
   "nbconvert_exporter": "python",
   "pygments_lexer": "ipython3",
   "version": "3.8.10"
  }
 },
 "nbformat": 4,
 "nbformat_minor": 5
}
